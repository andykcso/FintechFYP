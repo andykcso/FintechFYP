{
 "cells": [
  {
   "cell_type": "code",
   "execution_count": 1,
   "metadata": {},
   "outputs": [],
   "source": [
    "#FTEC4998"
   ]
  },
  {
   "cell_type": "markdown",
   "metadata": {},
   "source": [
    "First Task:\n",
    "1. Download a github desktop version, Learn what is a repository, what is pull and push\n",
    "2. Install python\n",
    "3. Choose IDE, VS code recommended\n",
    "4. Install required library first\n",
    "pip install numpy pandas yfinance tensorflow keras==2.6\n",
    "5. Try to run all cell in \"GitHub/FintechFYP/Sample1/Stock Prediction Using LSTM.ipynb\""
   ]
  },
  {
   "cell_type": "code",
   "execution_count": 2,
   "metadata": {},
   "outputs": [
    {
     "name": "stderr",
     "output_type": "stream",
     "text": [
      "2023-11-01 20:39:56.905067: I tensorflow/core/platform/cpu_feature_guard.cc:182] This TensorFlow binary is optimized to use available CPU instructions in performance-critical operations.\n",
      "To enable the following instructions: AVX2 AVX512F AVX512_VNNI FMA, in other operations, rebuild TensorFlow with the appropriate compiler flags.\n",
      "/Users/soka_1215/opt/anaconda3/lib/python3.9/site-packages/scipy/__init__.py:155: UserWarning: A NumPy version >=1.18.5 and <1.25.0 is required for this version of SciPy (detected version 1.26.1\n",
      "  warnings.warn(f\"A NumPy version >={np_minversion} and <{np_maxversion}\"\n"
     ]
    }
   ],
   "source": [
    "import tensorflow as tf\n",
    "import pandas as pd\n",
    "import os\n",
    "import numpy as np"
   ]
  },
  {
   "cell_type": "code",
   "execution_count": 5,
   "metadata": {},
   "outputs": [
    {
     "name": "stdout",
     "output_type": "stream",
     "text": [
      "/Users/soka_1215/Documents/GitHub/FintechFYP/LSTM_trial_1/SPY.csv\n"
     ]
    }
   ],
   "source": [
    "PROGRAM_PATH = os.getcwd()\n",
    "FILE_PATH = \"SPY.csv\"\n",
    "csv_path = os.path.join(PROGRAM_PATH, FILE_PATH)\n",
    "print(csv_path)"
   ]
  },
  {
   "cell_type": "code",
   "execution_count": 7,
   "metadata": {},
   "outputs": [
    {
     "data": {
      "text/html": [
       "<div>\n",
       "<style scoped>\n",
       "    .dataframe tbody tr th:only-of-type {\n",
       "        vertical-align: middle;\n",
       "    }\n",
       "\n",
       "    .dataframe tbody tr th {\n",
       "        vertical-align: top;\n",
       "    }\n",
       "\n",
       "    .dataframe thead th {\n",
       "        text-align: right;\n",
       "    }\n",
       "</style>\n",
       "<table border=\"1\" class=\"dataframe\">\n",
       "  <thead>\n",
       "    <tr style=\"text-align: right;\">\n",
       "      <th></th>\n",
       "      <th>Date</th>\n",
       "      <th>Open</th>\n",
       "      <th>High</th>\n",
       "      <th>Low</th>\n",
       "      <th>Close</th>\n",
       "      <th>Adj Close</th>\n",
       "      <th>Volume</th>\n",
       "    </tr>\n",
       "  </thead>\n",
       "  <tbody>\n",
       "    <tr>\n",
       "      <th>0</th>\n",
       "      <td>2012-01-03</td>\n",
       "      <td>127.760002</td>\n",
       "      <td>128.380005</td>\n",
       "      <td>127.430000</td>\n",
       "      <td>127.500000</td>\n",
       "      <td>102.458992</td>\n",
       "      <td>193697900</td>\n",
       "    </tr>\n",
       "    <tr>\n",
       "      <th>1</th>\n",
       "      <td>2012-01-04</td>\n",
       "      <td>127.199997</td>\n",
       "      <td>127.809998</td>\n",
       "      <td>126.709999</td>\n",
       "      <td>127.699997</td>\n",
       "      <td>102.619682</td>\n",
       "      <td>127186500</td>\n",
       "    </tr>\n",
       "    <tr>\n",
       "      <th>2</th>\n",
       "      <td>2012-01-05</td>\n",
       "      <td>127.010002</td>\n",
       "      <td>128.229996</td>\n",
       "      <td>126.430000</td>\n",
       "      <td>128.039993</td>\n",
       "      <td>102.892876</td>\n",
       "      <td>173895000</td>\n",
       "    </tr>\n",
       "    <tr>\n",
       "      <th>3</th>\n",
       "      <td>2012-01-06</td>\n",
       "      <td>128.199997</td>\n",
       "      <td>128.220001</td>\n",
       "      <td>127.290001</td>\n",
       "      <td>127.709999</td>\n",
       "      <td>102.627716</td>\n",
       "      <td>148050000</td>\n",
       "    </tr>\n",
       "    <tr>\n",
       "      <th>4</th>\n",
       "      <td>2012-01-09</td>\n",
       "      <td>128.000000</td>\n",
       "      <td>128.179993</td>\n",
       "      <td>127.410004</td>\n",
       "      <td>128.020004</td>\n",
       "      <td>102.876831</td>\n",
       "      <td>99530200</td>\n",
       "    </tr>\n",
       "    <tr>\n",
       "      <th>...</th>\n",
       "      <td>...</td>\n",
       "      <td>...</td>\n",
       "      <td>...</td>\n",
       "      <td>...</td>\n",
       "      <td>...</td>\n",
       "      <td>...</td>\n",
       "      <td>...</td>\n",
       "    </tr>\n",
       "    <tr>\n",
       "      <th>2971</th>\n",
       "      <td>2023-10-24</td>\n",
       "      <td>422.649994</td>\n",
       "      <td>424.820007</td>\n",
       "      <td>420.739990</td>\n",
       "      <td>423.630005</td>\n",
       "      <td>423.630005</td>\n",
       "      <td>78564200</td>\n",
       "    </tr>\n",
       "    <tr>\n",
       "      <th>2972</th>\n",
       "      <td>2023-10-25</td>\n",
       "      <td>421.890015</td>\n",
       "      <td>421.920013</td>\n",
       "      <td>417.019989</td>\n",
       "      <td>417.549988</td>\n",
       "      <td>417.549988</td>\n",
       "      <td>94223200</td>\n",
       "    </tr>\n",
       "    <tr>\n",
       "      <th>2973</th>\n",
       "      <td>2023-10-26</td>\n",
       "      <td>416.450012</td>\n",
       "      <td>417.329987</td>\n",
       "      <td>411.600006</td>\n",
       "      <td>412.549988</td>\n",
       "      <td>412.549988</td>\n",
       "      <td>115156800</td>\n",
       "    </tr>\n",
       "    <tr>\n",
       "      <th>2974</th>\n",
       "      <td>2023-10-27</td>\n",
       "      <td>414.190002</td>\n",
       "      <td>414.600006</td>\n",
       "      <td>409.209991</td>\n",
       "      <td>410.679993</td>\n",
       "      <td>410.679993</td>\n",
       "      <td>107228400</td>\n",
       "    </tr>\n",
       "    <tr>\n",
       "      <th>2975</th>\n",
       "      <td>2023-10-30</td>\n",
       "      <td>413.559998</td>\n",
       "      <td>416.679993</td>\n",
       "      <td>412.220001</td>\n",
       "      <td>415.589996</td>\n",
       "      <td>415.589996</td>\n",
       "      <td>86562700</td>\n",
       "    </tr>\n",
       "  </tbody>\n",
       "</table>\n",
       "<p>2976 rows × 7 columns</p>\n",
       "</div>"
      ],
      "text/plain": [
       "            Date        Open        High         Low       Close   Adj Close  \\\n",
       "0     2012-01-03  127.760002  128.380005  127.430000  127.500000  102.458992   \n",
       "1     2012-01-04  127.199997  127.809998  126.709999  127.699997  102.619682   \n",
       "2     2012-01-05  127.010002  128.229996  126.430000  128.039993  102.892876   \n",
       "3     2012-01-06  128.199997  128.220001  127.290001  127.709999  102.627716   \n",
       "4     2012-01-09  128.000000  128.179993  127.410004  128.020004  102.876831   \n",
       "...          ...         ...         ...         ...         ...         ...   \n",
       "2971  2023-10-24  422.649994  424.820007  420.739990  423.630005  423.630005   \n",
       "2972  2023-10-25  421.890015  421.920013  417.019989  417.549988  417.549988   \n",
       "2973  2023-10-26  416.450012  417.329987  411.600006  412.549988  412.549988   \n",
       "2974  2023-10-27  414.190002  414.600006  409.209991  410.679993  410.679993   \n",
       "2975  2023-10-30  413.559998  416.679993  412.220001  415.589996  415.589996   \n",
       "\n",
       "         Volume  \n",
       "0     193697900  \n",
       "1     127186500  \n",
       "2     173895000  \n",
       "3     148050000  \n",
       "4      99530200  \n",
       "...         ...  \n",
       "2971   78564200  \n",
       "2972   94223200  \n",
       "2973  115156800  \n",
       "2974  107228400  \n",
       "2975   86562700  \n",
       "\n",
       "[2976 rows x 7 columns]"
      ]
     },
     "execution_count": 7,
     "metadata": {},
     "output_type": "execute_result"
    }
   ],
   "source": [
    "df = pd.read_csv(csv_path)\n",
    "df"
   ]
  },
  {
   "cell_type": "code",
   "execution_count": 10,
   "metadata": {},
   "outputs": [
    {
     "data": {
      "text/html": [
       "<div>\n",
       "<style scoped>\n",
       "    .dataframe tbody tr th:only-of-type {\n",
       "        vertical-align: middle;\n",
       "    }\n",
       "\n",
       "    .dataframe tbody tr th {\n",
       "        vertical-align: top;\n",
       "    }\n",
       "\n",
       "    .dataframe thead th {\n",
       "        text-align: right;\n",
       "    }\n",
       "</style>\n",
       "<table border=\"1\" class=\"dataframe\">\n",
       "  <thead>\n",
       "    <tr style=\"text-align: right;\">\n",
       "      <th></th>\n",
       "      <th>Date</th>\n",
       "      <th>Open</th>\n",
       "      <th>High</th>\n",
       "      <th>Low</th>\n",
       "      <th>Close</th>\n",
       "      <th>Adj Close</th>\n",
       "      <th>Volume</th>\n",
       "    </tr>\n",
       "    <tr>\n",
       "      <th>Date</th>\n",
       "      <th></th>\n",
       "      <th></th>\n",
       "      <th></th>\n",
       "      <th></th>\n",
       "      <th></th>\n",
       "      <th></th>\n",
       "      <th></th>\n",
       "    </tr>\n",
       "  </thead>\n",
       "  <tbody>\n",
       "    <tr>\n",
       "      <th>2012-01-03</th>\n",
       "      <td>2012-01-03</td>\n",
       "      <td>127.760002</td>\n",
       "      <td>128.380005</td>\n",
       "      <td>127.430000</td>\n",
       "      <td>127.500000</td>\n",
       "      <td>102.458992</td>\n",
       "      <td>193697900</td>\n",
       "    </tr>\n",
       "    <tr>\n",
       "      <th>2012-01-04</th>\n",
       "      <td>2012-01-04</td>\n",
       "      <td>127.199997</td>\n",
       "      <td>127.809998</td>\n",
       "      <td>126.709999</td>\n",
       "      <td>127.699997</td>\n",
       "      <td>102.619682</td>\n",
       "      <td>127186500</td>\n",
       "    </tr>\n",
       "    <tr>\n",
       "      <th>2012-01-05</th>\n",
       "      <td>2012-01-05</td>\n",
       "      <td>127.010002</td>\n",
       "      <td>128.229996</td>\n",
       "      <td>126.430000</td>\n",
       "      <td>128.039993</td>\n",
       "      <td>102.892876</td>\n",
       "      <td>173895000</td>\n",
       "    </tr>\n",
       "    <tr>\n",
       "      <th>2012-01-06</th>\n",
       "      <td>2012-01-06</td>\n",
       "      <td>128.199997</td>\n",
       "      <td>128.220001</td>\n",
       "      <td>127.290001</td>\n",
       "      <td>127.709999</td>\n",
       "      <td>102.627716</td>\n",
       "      <td>148050000</td>\n",
       "    </tr>\n",
       "    <tr>\n",
       "      <th>2012-01-09</th>\n",
       "      <td>2012-01-09</td>\n",
       "      <td>128.000000</td>\n",
       "      <td>128.179993</td>\n",
       "      <td>127.410004</td>\n",
       "      <td>128.020004</td>\n",
       "      <td>102.876831</td>\n",
       "      <td>99530200</td>\n",
       "    </tr>\n",
       "    <tr>\n",
       "      <th>...</th>\n",
       "      <td>...</td>\n",
       "      <td>...</td>\n",
       "      <td>...</td>\n",
       "      <td>...</td>\n",
       "      <td>...</td>\n",
       "      <td>...</td>\n",
       "      <td>...</td>\n",
       "    </tr>\n",
       "    <tr>\n",
       "      <th>2023-10-24</th>\n",
       "      <td>2023-10-24</td>\n",
       "      <td>422.649994</td>\n",
       "      <td>424.820007</td>\n",
       "      <td>420.739990</td>\n",
       "      <td>423.630005</td>\n",
       "      <td>423.630005</td>\n",
       "      <td>78564200</td>\n",
       "    </tr>\n",
       "    <tr>\n",
       "      <th>2023-10-25</th>\n",
       "      <td>2023-10-25</td>\n",
       "      <td>421.890015</td>\n",
       "      <td>421.920013</td>\n",
       "      <td>417.019989</td>\n",
       "      <td>417.549988</td>\n",
       "      <td>417.549988</td>\n",
       "      <td>94223200</td>\n",
       "    </tr>\n",
       "    <tr>\n",
       "      <th>2023-10-26</th>\n",
       "      <td>2023-10-26</td>\n",
       "      <td>416.450012</td>\n",
       "      <td>417.329987</td>\n",
       "      <td>411.600006</td>\n",
       "      <td>412.549988</td>\n",
       "      <td>412.549988</td>\n",
       "      <td>115156800</td>\n",
       "    </tr>\n",
       "    <tr>\n",
       "      <th>2023-10-27</th>\n",
       "      <td>2023-10-27</td>\n",
       "      <td>414.190002</td>\n",
       "      <td>414.600006</td>\n",
       "      <td>409.209991</td>\n",
       "      <td>410.679993</td>\n",
       "      <td>410.679993</td>\n",
       "      <td>107228400</td>\n",
       "    </tr>\n",
       "    <tr>\n",
       "      <th>2023-10-30</th>\n",
       "      <td>2023-10-30</td>\n",
       "      <td>413.559998</td>\n",
       "      <td>416.679993</td>\n",
       "      <td>412.220001</td>\n",
       "      <td>415.589996</td>\n",
       "      <td>415.589996</td>\n",
       "      <td>86562700</td>\n",
       "    </tr>\n",
       "  </tbody>\n",
       "</table>\n",
       "<p>2976 rows × 7 columns</p>\n",
       "</div>"
      ],
      "text/plain": [
       "                  Date        Open        High         Low       Close  \\\n",
       "Date                                                                     \n",
       "2012-01-03  2012-01-03  127.760002  128.380005  127.430000  127.500000   \n",
       "2012-01-04  2012-01-04  127.199997  127.809998  126.709999  127.699997   \n",
       "2012-01-05  2012-01-05  127.010002  128.229996  126.430000  128.039993   \n",
       "2012-01-06  2012-01-06  128.199997  128.220001  127.290001  127.709999   \n",
       "2012-01-09  2012-01-09  128.000000  128.179993  127.410004  128.020004   \n",
       "...                ...         ...         ...         ...         ...   \n",
       "2023-10-24  2023-10-24  422.649994  424.820007  420.739990  423.630005   \n",
       "2023-10-25  2023-10-25  421.890015  421.920013  417.019989  417.549988   \n",
       "2023-10-26  2023-10-26  416.450012  417.329987  411.600006  412.549988   \n",
       "2023-10-27  2023-10-27  414.190002  414.600006  409.209991  410.679993   \n",
       "2023-10-30  2023-10-30  413.559998  416.679993  412.220001  415.589996   \n",
       "\n",
       "             Adj Close     Volume  \n",
       "Date                               \n",
       "2012-01-03  102.458992  193697900  \n",
       "2012-01-04  102.619682  127186500  \n",
       "2012-01-05  102.892876  173895000  \n",
       "2012-01-06  102.627716  148050000  \n",
       "2012-01-09  102.876831   99530200  \n",
       "...                ...        ...  \n",
       "2023-10-24  423.630005   78564200  \n",
       "2023-10-25  417.549988   94223200  \n",
       "2023-10-26  412.549988  115156800  \n",
       "2023-10-27  410.679993  107228400  \n",
       "2023-10-30  415.589996   86562700  \n",
       "\n",
       "[2976 rows x 7 columns]"
      ]
     },
     "execution_count": 10,
     "metadata": {},
     "output_type": "execute_result"
    }
   ],
   "source": [
    "df.index = pd.to_datetime(df['Date'], format='%Y-%m-%d')\n",
    "df"
   ]
  },
  {
   "cell_type": "code",
   "execution_count": 11,
   "metadata": {},
   "outputs": [
    {
     "data": {
      "text/plain": [
       "<AxesSubplot:xlabel='Date'>"
      ]
     },
     "execution_count": 11,
     "metadata": {},
     "output_type": "execute_result"
    },
    {
     "data": {
      "image/png": "[encoded data removed]",
      "text/plain": [
       "<Figure size 640x480 with 1 Axes>"
      ]
     },
     "metadata": {},
     "output_type": "display_data"
    }
   ],
   "source": [
    "temp = df['Close']\n",
    "temp.plot()"
   ]
  },
  {
   "cell_type": "code",
   "execution_count": 13,
   "metadata": {},
   "outputs": [],
   "source": [
    "def df_to_X_y(df, window_size):\n",
    "    df_as_np = df.to_numpy()\n",
    "    X = []\n",
    "    y = []\n",
    "    for i in range(len(df_as_np)-window_size):\n",
    "        row = [[a] for a in df_as_np[i:i+window_size]]\n",
    "        X.append(row)\n",
    "        label = df_as_np[i+window_size]\n",
    "        y.append(label)\n",
    "    return np.array(X), np.array(y)\n"
   ]
  },
  {
   "cell_type": "code",
   "execution_count": 14,
   "metadata": {},
   "outputs": [
    {
     "data": {
      "text/plain": [
       "((2956, 20, 1), (2956,))"
      ]
     },
     "execution_count": 14,
     "metadata": {},
     "output_type": "execute_result"
    }
   ],
   "source": [
    "WINDOW_SIZE = 20\n",
    "X, y = df_to_X_y(temp, WINDOW_SIZE)\n",
    "X.shape, y.shape"
   ]
  },
  {
   "cell_type": "code",
   "execution_count": 15,
   "metadata": {},
   "outputs": [
    {
     "data": {
      "text/plain": [
       "array([[[127.5     ],\n",
       "        [127.699997],\n",
       "        [128.039993],\n",
       "        ...,\n",
       "        [131.820007],\n",
       "        [131.369995],\n",
       "        [131.320007]],\n",
       "\n",
       "       [[127.699997],\n",
       "        [128.039993],\n",
       "        [127.709999],\n",
       "        ...,\n",
       "        [131.369995],\n",
       "        [131.320007],\n",
       "        [132.470001]],\n",
       "\n",
       "       [[128.039993],\n",
       "        [127.709999],\n",
       "        [128.020004],\n",
       "        ...,\n",
       "        [131.320007],\n",
       "        [132.470001],\n",
       "        [132.679993]],\n",
       "\n",
       "       ...,\n",
       "\n",
       "       [[428.519989],\n",
       "        [427.480011],\n",
       "        [427.309998],\n",
       "        ...,\n",
       "        [420.459991],\n",
       "        [423.630005],\n",
       "        [417.549988]],\n",
       "\n",
       "       [[427.480011],\n",
       "        [427.309998],\n",
       "        [421.589996],\n",
       "        ...,\n",
       "        [423.630005],\n",
       "        [417.549988],\n",
       "        [412.549988]],\n",
       "\n",
       "       [[427.309998],\n",
       "        [421.589996],\n",
       "        [424.660004],\n",
       "        ...,\n",
       "        [417.549988],\n",
       "        [412.549988],\n",
       "        [410.679993]]])"
      ]
     },
     "execution_count": 15,
     "metadata": {},
     "output_type": "execute_result"
    }
   ],
   "source": [
    "X"
   ]
  },
  {
   "cell_type": "code",
   "execution_count": 16,
   "metadata": {},
   "outputs": [
    {
     "data": {
      "text/plain": [
       "array([132.470001, 132.679993, 134.539993, ..., 412.549988, 410.679993,\n",
       "       415.589996])"
      ]
     },
     "execution_count": 16,
     "metadata": {},
     "output_type": "execute_result"
    }
   ],
   "source": [
    "y"
   ]
  },
  {
   "cell_type": "code",
   "execution_count": 17,
   "metadata": {},
   "outputs": [
    {
     "data": {
      "text/plain": [
       "((2000, 20, 1), (2000,), (500, 20, 1), (500,), (456, 20, 1), (456,))"
      ]
     },
     "execution_count": 17,
     "metadata": {},
     "output_type": "execute_result"
    }
   ],
   "source": [
    "X_train, y_train = X[:2000], y[:2000]\n",
    "X_val, y_val = X[2000:2500], y[2000:2500]\n",
    "X_test, y_test = X[2500:], y[2500:]\n",
    "X_train.shape, y_train.shape, X_val.shape, y_val.shape, X_test.shape, y_test.shape"
   ]
  },
  {
   "cell_type": "code",
   "execution_count": 20,
   "metadata": {},
   "outputs": [
    {
     "name": "stdout",
     "output_type": "stream",
     "text": [
      "Model: \"sequential\"\n",
      "_________________________________________________________________\n",
      " Layer (type)                Output Shape              Param #   \n",
      "=================================================================\n",
      " lstm (LSTM)                 (None, 64)                16896     \n",
      "                                                                 \n",
      " dense (Dense)               (None, 8)                 520       \n",
      "                                                                 \n",
      " dense_1 (Dense)             (None, 1)                 9         \n",
      "                                                                 \n",
      "=================================================================\n",
      "Total params: 17425 (68.07 KB)\n",
      "Trainable params: 17425 (68.07 KB)\n",
      "Non-trainable params: 0 (0.00 Byte)\n",
      "_________________________________________________________________\n"
     ]
    }
   ],
   "source": [
    "from tensorflow.keras.models import Sequential\n",
    "from tensorflow.keras.layers import *\n",
    "from tensorflow.keras.callbacks import ModelCheckpoint\n",
    "from tensorflow.keras.losses import MeanSquaredError\n",
    "from tensorflow.keras.metrics import RootMeanSquaredError\n",
    "from tensorflow.keras.optimizers import Adam\n",
    "\n",
    "model1 = Sequential()\n",
    "model1.add(InputLayer((20,1)))\n",
    "model1.add(LSTM(64))\n",
    "model1.add(Dense(8, 'relu'))\n",
    "model1.add(Dense(1, 'linear'))\n",
    "model1.summary()"
   ]
  },
  {
   "cell_type": "code",
   "execution_count": 21,
   "metadata": {},
   "outputs": [],
   "source": [
    "cp = ModelCheckpoint('model1/', save_best_only=True)\n",
    "model1.compile(loss=MeanSquaredError(), optimizer=Adam(learning_rate=0.0001), metrics=[RootMeanSquaredError()])"
   ]
  },
  {
   "cell_type": "code",
   "execution_count": 22,
   "metadata": {},
   "outputs": [
    {
     "name": "stdout",
     "output_type": "stream",
     "text": [
      "Epoch 1/10\n",
      "56/63 [=========================>....] - ETA: 0s - loss: 49520.9492 - root_mean_squared_error: 222.5330INFO:tensorflow:Assets written to: model1/assets\n"
     ]
    },
    {
     "name": "stderr",
     "output_type": "stream",
     "text": [
      "INFO:tensorflow:Assets written to: model1/assets\n"
     ]
    },
    {
     "name": "stdout",
     "output_type": "stream",
     "text": [
      "63/63 [==============================] - 7s 82ms/step - loss: 49199.9883 - root_mean_squared_error: 221.8107 - val_loss: 143898.8906 - val_root_mean_squared_error: 379.3401\n",
      "Epoch 2/10\n",
      "62/63 [============================>.] - ETA: 0s - loss: 48894.3086 - root_mean_squared_error: 221.1206INFO:tensorflow:Assets written to: model1/assets\n"
     ]
    },
    {
     "name": "stderr",
     "output_type": "stream",
     "text": [
      "INFO:tensorflow:Assets written to: model1/assets\n"
     ]
    },
    {
     "name": "stdout",
     "output_type": "stream",
     "text": [
      "63/63 [==============================] - 4s 70ms/step - loss: 48893.7383 - root_mean_squared_error: 221.1193 - val_loss: 143341.8906 - val_root_mean_squared_error: 378.6052\n",
      "Epoch 3/10\n",
      "59/63 [===========================>..] - ETA: 0s - loss: 48676.4336 - root_mean_squared_error: 220.6274INFO:tensorflow:Assets written to: model1/assets\n"
     ]
    },
    {
     "name": "stderr",
     "output_type": "stream",
     "text": [
      "INFO:tensorflow:Assets written to: model1/assets\n"
     ]
    },
    {
     "name": "stdout",
     "output_type": "stream",
     "text": [
      "63/63 [==============================] - 5s 73ms/step - loss: 48656.6953 - root_mean_squared_error: 220.5826 - val_loss: 142954.7812 - val_root_mean_squared_error: 378.0936\n",
      "Epoch 4/10\n",
      "61/63 [============================>.] - ETA: 0s - loss: 48495.4883 - root_mean_squared_error: 220.2169INFO:tensorflow:Assets written to: model1/assets\n"
     ]
    },
    {
     "name": "stderr",
     "output_type": "stream",
     "text": [
      "INFO:tensorflow:Assets written to: model1/assets\n"
     ]
    },
    {
     "name": "stdout",
     "output_type": "stream",
     "text": [
      "63/63 [==============================] - 4s 64ms/step - loss: 48420.9336 - root_mean_squared_error: 220.0476 - val_loss: 142601.2188 - val_root_mean_squared_error: 377.6258\n",
      "Epoch 5/10\n",
      "62/63 [============================>.] - ETA: 0s - loss: 47873.3984 - root_mean_squared_error: 218.7999INFO:tensorflow:Assets written to: model1/assets\n"
     ]
    },
    {
     "name": "stderr",
     "output_type": "stream",
     "text": [
      "INFO:tensorflow:Assets written to: model1/assets\n"
     ]
    },
    {
     "name": "stdout",
     "output_type": "stream",
     "text": [
      "63/63 [==============================] - 6s 91ms/step - loss: 47898.3828 - root_mean_squared_error: 218.8570 - val_loss: 141336.1250 - val_root_mean_squared_error: 375.9470\n",
      "Epoch 6/10\n",
      "62/63 [============================>.] - ETA: 0s - loss: 47265.5391 - root_mean_squared_error: 217.4064INFO:tensorflow:Assets written to: model1/assets\n"
     ]
    },
    {
     "name": "stderr",
     "output_type": "stream",
     "text": [
      "INFO:tensorflow:Assets written to: model1/assets\n"
     ]
    },
    {
     "name": "stdout",
     "output_type": "stream",
     "text": [
      "63/63 [==============================] - 4s 71ms/step - loss: 47275.6836 - root_mean_squared_error: 217.4297 - val_loss: 140549.3438 - val_root_mean_squared_error: 374.8991\n",
      "Epoch 7/10\n",
      "62/63 [============================>.] - ETA: 0s - loss: 46165.6836 - root_mean_squared_error: 214.8620INFO:tensorflow:Assets written to: model1/assets\n"
     ]
    },
    {
     "name": "stderr",
     "output_type": "stream",
     "text": [
      "INFO:tensorflow:Assets written to: model1/assets\n"
     ]
    },
    {
     "name": "stdout",
     "output_type": "stream",
     "text": [
      "63/63 [==============================] - 4s 68ms/step - loss: 46158.6211 - root_mean_squared_error: 214.8456 - val_loss: 138250.0938 - val_root_mean_squared_error: 371.8200\n",
      "Epoch 8/10\n",
      "63/63 [==============================] - ETA: 0s - loss: 45271.4375 - root_mean_squared_error: 212.7709INFO:tensorflow:Assets written to: model1/assets\n"
     ]
    },
    {
     "name": "stderr",
     "output_type": "stream",
     "text": [
      "INFO:tensorflow:Assets written to: model1/assets\n"
     ]
    },
    {
     "name": "stdout",
     "output_type": "stream",
     "text": [
      "63/63 [==============================] - 5s 73ms/step - loss: 45271.4375 - root_mean_squared_error: 212.7709 - val_loss: 136735.0781 - val_root_mean_squared_error: 369.7771\n",
      "Epoch 9/10\n",
      "57/63 [==========================>...] - ETA: 0s - loss: 44541.4297 - root_mean_squared_error: 211.0484INFO:tensorflow:Assets written to: model1/assets\n"
     ]
    },
    {
     "name": "stderr",
     "output_type": "stream",
     "text": [
      "INFO:tensorflow:Assets written to: model1/assets\n"
     ]
    },
    {
     "name": "stdout",
     "output_type": "stream",
     "text": [
      "63/63 [==============================] - 4s 66ms/step - loss: 44615.8359 - root_mean_squared_error: 211.2246 - val_loss: 135818.2500 - val_root_mean_squared_error: 368.5353\n",
      "Epoch 10/10\n",
      "57/63 [==========================>...] - ETA: 0s - loss: 44291.4219 - root_mean_squared_error: 210.4553INFO:tensorflow:Assets written to: model1/assets\n"
     ]
    },
    {
     "name": "stderr",
     "output_type": "stream",
     "text": [
      "INFO:tensorflow:Assets written to: model1/assets\n"
     ]
    },
    {
     "name": "stdout",
     "output_type": "stream",
     "text": [
      "63/63 [==============================] - 4s 68ms/step - loss: 44091.7422 - root_mean_squared_error: 209.9803 - val_loss: 134855.7344 - val_root_mean_squared_error: 367.2271\n"
     ]
    },
    {
     "data": {
      "text/plain": [
       "<keras.src.callbacks.History at 0x7fb297d07970>"
      ]
     },
     "execution_count": 22,
     "metadata": {},
     "output_type": "execute_result"
    }
   ],
   "source": [
    "model1.fit(X_train, y_train, validation_data=(X_val, y_val), epochs=10, callbacks=[cp])"
   ]
  },
  {
   "cell_type": "code",
   "execution_count": 23,
   "metadata": {},
   "outputs": [],
   "source": [
    "from tensorflow.keras.models import load_model\n",
    "model1 = load_model('model1/')\n"
   ]
  },
  {
   "cell_type": "code",
   "execution_count": 24,
   "metadata": {},
   "outputs": [
    {
     "name": "stdout",
     "output_type": "stream",
     "text": [
      "63/63 [==============================] - 1s 4ms/step\n"
     ]
    },
    {
     "data": {
      "text/html": [
       "<div>\n",
       "<style scoped>\n",
       "    .dataframe tbody tr th:only-of-type {\n",
       "        vertical-align: middle;\n",
       "    }\n",
       "\n",
       "    .dataframe tbody tr th {\n",
       "        vertical-align: top;\n",
       "    }\n",
       "\n",
       "    .dataframe thead th {\n",
       "        text-align: right;\n",
       "    }\n",
       "</style>\n",
       "<table border=\"1\" class=\"dataframe\">\n",
       "  <thead>\n",
       "    <tr style=\"text-align: right;\">\n",
       "      <th></th>\n",
       "      <th>Train Predictions</th>\n",
       "      <th>Actuals</th>\n",
       "    </tr>\n",
       "  </thead>\n",
       "  <tbody>\n",
       "    <tr>\n",
       "      <th>0</th>\n",
       "      <td>13.894748</td>\n",
       "      <td>132.470001</td>\n",
       "    </tr>\n",
       "    <tr>\n",
       "      <th>1</th>\n",
       "      <td>13.892118</td>\n",
       "      <td>132.679993</td>\n",
       "    </tr>\n",
       "    <tr>\n",
       "      <th>2</th>\n",
       "      <td>13.890059</td>\n",
       "      <td>134.539993</td>\n",
       "    </tr>\n",
       "    <tr>\n",
       "      <th>3</th>\n",
       "      <td>13.886124</td>\n",
       "      <td>134.449997</td>\n",
       "    </tr>\n",
       "    <tr>\n",
       "      <th>4</th>\n",
       "      <td>13.883851</td>\n",
       "      <td>134.789993</td>\n",
       "    </tr>\n",
       "    <tr>\n",
       "      <th>...</th>\n",
       "      <td>...</td>\n",
       "      <td>...</td>\n",
       "    </tr>\n",
       "    <tr>\n",
       "      <th>1995</th>\n",
       "      <td>13.149267</td>\n",
       "      <td>322.730011</td>\n",
       "    </tr>\n",
       "    <tr>\n",
       "      <th>1996</th>\n",
       "      <td>13.149405</td>\n",
       "      <td>324.450012</td>\n",
       "    </tr>\n",
       "    <tr>\n",
       "      <th>1997</th>\n",
       "      <td>13.148922</td>\n",
       "      <td>326.649994</td>\n",
       "    </tr>\n",
       "    <tr>\n",
       "      <th>1998</th>\n",
       "      <td>13.148239</td>\n",
       "      <td>325.709991</td>\n",
       "    </tr>\n",
       "    <tr>\n",
       "      <th>1999</th>\n",
       "      <td>13.148266</td>\n",
       "      <td>327.950012</td>\n",
       "    </tr>\n",
       "  </tbody>\n",
       "</table>\n",
       "<p>2000 rows × 2 columns</p>\n",
       "</div>"
      ],
      "text/plain": [
       "      Train Predictions     Actuals\n",
       "0             13.894748  132.470001\n",
       "1             13.892118  132.679993\n",
       "2             13.890059  134.539993\n",
       "3             13.886124  134.449997\n",
       "4             13.883851  134.789993\n",
       "...                 ...         ...\n",
       "1995          13.149267  322.730011\n",
       "1996          13.149405  324.450012\n",
       "1997          13.148922  326.649994\n",
       "1998          13.148239  325.709991\n",
       "1999          13.148266  327.950012\n",
       "\n",
       "[2000 rows x 2 columns]"
      ]
     },
     "execution_count": 24,
     "metadata": {},
     "output_type": "execute_result"
    }
   ],
   "source": [
    "train_predictions = model1.predict(X_train).flatten()\n",
    "train_results = pd.DataFrame(data ={ 'Train Predictions':train_predictions, 'Actuals':y_train})\n",
    "train_results"
   ]
  },
  {
   "cell_type": "code",
   "execution_count": 25,
   "metadata": {},
   "outputs": [
    {
     "data": {
      "text/plain": [
       "[<matplotlib.lines.Line2D at 0x7fb29b5e1d60>]"
      ]
     },
     "execution_count": 25,
     "metadata": {},
     "output_type": "execute_result"
    },
    {
     "data": {
      "image/png": "[encoded data removed]",
      "text/plain": [
       "<Figure size 640x480 with 1 Axes>"
      ]
     },
     "metadata": {},
     "output_type": "display_data"
    }
   ],
   "source": [
    "import matplotlib.pyplot as plt\n",
    "plt.plot(train_results['Train Predictions'])\n",
    "plt.plot(train_results['Actuals'])\n"
   ]
  }
 ],
 "metadata": {
  "kernelspec": {
   "display_name": "Python 3",
   "language": "python",
   "name": "python3"
  },
  "language_info": {
   "codemirror_mode": {
    "name": "ipython",
    "version": 3
   },
   "file_extension": ".py",
   "mimetype": "text/x-python",
   "name": "python",
   "nbconvert_exporter": "python",
   "pygments_lexer": "ipython3",
   "version": "3.9.13"
  }
 },
 "nbformat": 4,
 "nbformat_minor": 2
}

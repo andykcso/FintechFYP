{
 "cells": [
  {
   "cell_type": "code",
   "execution_count": 1,
   "metadata": {},
   "outputs": [],
   "source": [
    "#FTEC4998"
   ]
  },
  {
   "cell_type": "markdown",
   "metadata": {},
   "source": [
    "First Task:\n",
    "1. Download a github desktop version, Learn what is a repository, what is pull and push\n",
    "2. Install python\n",
    "3. Choose IDE, VS code recommended\n",
    "4. Install required library first\n",
    "pip install numpy pandas yfinance tensorflow keras==2.6\n",
    "5. Try to run all cell in \"GitHub/FintechFYP/Sample1/Stock Prediction Using LSTM.ipynb\""
   ]
  }
 ],
 "metadata": {
  "kernelspec": {
   "display_name": "Python 3",
   "language": "python",
   "name": "python3"
  },
  "language_info": {
   "codemirror_mode": {
    "name": "ipython",
    "version": 3
   },
   "file_extension": ".py",
   "mimetype": "text/x-python",
   "name": "python",
   "nbconvert_exporter": "python",
   "pygments_lexer": "ipython3",
   "version": "3.9.13"
  }
 },
 "nbformat": 4,
 "nbformat_minor": 2
}

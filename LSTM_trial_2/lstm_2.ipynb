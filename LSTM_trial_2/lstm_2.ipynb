{
 "cells": [
  {
   "cell_type": "code",
   "execution_count": 33,
   "metadata": {},
   "outputs": [],
   "source": [
    "import numpy as np\n",
    "from tensorflow.keras.models import Sequential\n",
    "from tensorflow.keras.layers import LSTM\n",
    "from tensorflow.keras.layers import Dense, Dropout\n",
    "import pandas as pd\n",
    "from matplotlib import pyplot as plt\n",
    "from sklearn.preprocessing import StandardScaler\n",
    "import seaborn as sns"
   ]
  },
  {
   "cell_type": "code",
   "execution_count": 34,
   "metadata": {},
   "outputs": [
    {
     "name": "stdout",
     "output_type": "stream",
     "text": [
      "         Date        Open        High         Low       Close   Adj Close  \\\n",
      "0  2012-01-03  127.760002  128.380005  127.430000  127.500000  102.458992   \n",
      "1  2012-01-04  127.199997  127.809998  126.709999  127.699997  102.619682   \n",
      "2  2012-01-05  127.010002  128.229996  126.430000  128.039993  102.892876   \n",
      "3  2012-01-06  128.199997  128.220001  127.290001  127.709999  102.627716   \n",
      "4  2012-01-09  128.000000  128.179993  127.410004  128.020004  102.876831   \n",
      "\n",
      "      Volume  \n",
      "0  193697900  \n",
      "1  127186500  \n",
      "2  173895000  \n",
      "3  148050000  \n",
      "4   99530200  \n"
     ]
    }
   ],
   "source": [
    "#Read the csv file\n",
    "df = pd.read_csv('SPY.csv')\n",
    "print(df.head())"
   ]
  },
  {
   "cell_type": "code",
   "execution_count": 35,
   "metadata": {},
   "outputs": [
    {
     "name": "stdout",
     "output_type": "stream",
     "text": [
      "2961   2023-10-10\n",
      "2962   2023-10-11\n",
      "2963   2023-10-12\n",
      "2964   2023-10-13\n",
      "2965   2023-10-16\n",
      "2966   2023-10-17\n",
      "2967   2023-10-18\n",
      "2968   2023-10-19\n",
      "2969   2023-10-20\n",
      "2970   2023-10-23\n",
      "2971   2023-10-24\n",
      "2972   2023-10-25\n",
      "2973   2023-10-26\n",
      "2974   2023-10-27\n",
      "2975   2023-10-30\n",
      "Name: Date, dtype: datetime64[ns]\n"
     ]
    }
   ],
   "source": [
    "#Separate dates for future plotting\n",
    "train_dates = pd.to_datetime(df['Date'])\n",
    "print(train_dates.tail(15)) #Check last few dates. "
   ]
  },
  {
   "cell_type": "code",
   "execution_count": 36,
   "metadata": {},
   "outputs": [
    {
     "name": "stdout",
     "output_type": "stream",
     "text": [
      "['Open', 'High', 'Low', 'Close', 'Adj Close']\n"
     ]
    }
   ],
   "source": [
    "#Variables for training\n",
    "cols = list(df)[1:6]\n",
    "#Date and volume columns are not used in training. \n",
    "print(cols) #['Open', 'High', 'Low', 'Close', 'Adj Close']"
   ]
  },
  {
   "cell_type": "code",
   "execution_count": 37,
   "metadata": {},
   "outputs": [
    {
     "name": "stdout",
     "output_type": "stream",
     "text": [
      "            Open        High         Low       Close   Adj Close\n",
      "0     127.760002  128.380005  127.430000  127.500000  102.458992\n",
      "1     127.199997  127.809998  126.709999  127.699997  102.619682\n",
      "2     127.010002  128.229996  126.430000  128.039993  102.892876\n",
      "3     128.199997  128.220001  127.290001  127.709999  102.627716\n",
      "4     128.000000  128.179993  127.410004  128.020004  102.876831\n",
      "...          ...         ...         ...         ...         ...\n",
      "2971  422.649994  424.820007  420.739990  423.630005  423.630005\n",
      "2972  421.890015  421.920013  417.019989  417.549988  417.549988\n",
      "2973  416.450012  417.329987  411.600006  412.549988  412.549988\n",
      "2974  414.190002  414.600006  409.209991  410.679993  410.679993\n",
      "2975  413.559998  416.679993  412.220001  415.589996  415.589996\n",
      "\n",
      "[2976 rows x 5 columns]\n"
     ]
    }
   ],
   "source": [
    "#New dataframe with only training data - 5 columns\n",
    "df_for_training = df[cols].astype(float)\n",
    "print(df_for_training)"
   ]
  },
  {
   "cell_type": "code",
   "execution_count": 38,
   "metadata": {},
   "outputs": [
    {
     "data": {
      "text/plain": [
       "<Axes: >"
      ]
     },
     "execution_count": 38,
     "metadata": {},
     "output_type": "execute_result"
    },
    {
     "data": {
      "image/png": "[encoded data removed]",
      "text/plain": [
       "<Figure size 432x288 with 1 Axes>"
      ]
     },
     "metadata": {
      "needs_background": "light"
     },
     "output_type": "display_data"
    }
   ],
   "source": [
    "df_for_plot=df_for_training.tail(5000)\n",
    "df_for_plot.plot.line()\n"
   ]
  },
  {
   "cell_type": "code",
   "execution_count": 39,
   "metadata": {},
   "outputs": [
    {
     "name": "stdout",
     "output_type": "stream",
     "text": [
      "[[-1.48905332 -1.4876545  -1.48726868 -1.49223964 -1.42848182]\n",
      " [-1.49480127 -1.49346493 -1.49471571 -1.49018674 -1.4269465 ]\n",
      " [-1.4967514  -1.48918363 -1.49761176 -1.48669678 -1.42433624]\n",
      " ...\n",
      " [ 1.47409434  1.45778791  1.45192604  1.43371205  1.53430682]\n",
      " [ 1.45089734  1.42995955  1.42720591  1.41451712  1.51643981]\n",
      " [ 1.4444309   1.45116212  1.4583387   1.46491681  1.56335281]]\n"
     ]
    }
   ],
   "source": [
    "# LSTM uses sigmoid and tanh that are sensitive to magnitude so values need to be normalized\n",
    "# normalize the dataset\n",
    "\n",
    "scaler = StandardScaler()\n",
    "scaler = scaler.fit(df_for_training)\n",
    "\"\"\"\n",
    "from sklearn.preprocessing import MinMaxScaler\n",
    "scaler=MinMaxScaler(feature_range=(0,1))\n",
    "scaler = scaler.fit(df_for_training)\n",
    "\"\"\"\n",
    "df_for_training_scaled = scaler.transform(df_for_training)\n",
    "print(df_for_training_scaled)"
   ]
  },
  {
   "cell_type": "code",
   "execution_count": 40,
   "metadata": {},
   "outputs": [],
   "source": [
    "#As required for LSTM networks, we require to reshape an input data into n_samples x timesteps x n_features. \n",
    "#In this example, the n_features is 5. We will make timesteps = 14 (past days data used for training). \n",
    "\n",
    "#Empty lists to be populated using formatted training data\n",
    "trainX = []\n",
    "trainY = []\n",
    "\n",
    "n_future = 1   # Number of days we want to look into the future based on the past days.\n",
    "n_past = 14  # Number of past days we want to use to predict the future."
   ]
  },
  {
   "cell_type": "code",
   "execution_count": 41,
   "metadata": {},
   "outputs": [
    {
     "name": "stdout",
     "output_type": "stream",
     "text": [
      "trainX shape == (2962, 14, 5).\n",
      "trainY shape == (2962, 1).\n"
     ]
    }
   ],
   "source": [
    "#Reformat input data into a shape: (n_samples x timesteps x n_features)\n",
    "#In my example, my df_for_training_scaled has a shape (12823, 5)\n",
    "#12823 refers to the number of data points and 5 refers to the columns (multi-variables).\n",
    "for i in range(n_past, len(df_for_training_scaled) - n_future +1):\n",
    "    trainX.append(df_for_training_scaled[i - n_past:i, 0:df_for_training.shape[1]])\n",
    "    trainY.append(df_for_training_scaled[i + n_future - 1:i + n_future, 0])\n",
    "\n",
    "trainX, trainY = np.array(trainX), np.array(trainY)\n",
    "\n",
    "print('trainX shape == {}.'.format(trainX.shape))\n",
    "print('trainY shape == {}.'.format(trainY.shape))\n",
    "\n",
    "#In my case, trainX has a shape (12809, 14, 5). \n",
    "#12809 because we are looking back 14 days (12823 - 14 = 12809). \n",
    "#Remember that we cannot look back 14 days until we get to the 15th day. \n",
    "#Also, trainY has a shape (12809, 1). Our model only predicts a single value, but \n",
    "#it needs multiple variables (5 in my example) to make this prediction. \n",
    "#This is why we can only predict a single day after our training, the day after where our data ends.\n",
    "#To predict more days in future, we need all the 5 variables which we do not have. \n",
    "#We need to predict all variables if we want to do that. "
   ]
  },
  {
   "cell_type": "code",
   "execution_count": 42,
   "metadata": {},
   "outputs": [
    {
     "name": "stdout",
     "output_type": "stream",
     "text": [
      "Model: \"sequential_1\"\n",
      "_________________________________________________________________\n",
      " Layer (type)                Output Shape              Param #   \n",
      "=================================================================\n",
      " lstm_2 (LSTM)               (None, 14, 128)           68608     \n",
      "                                                                 \n",
      " lstm_3 (LSTM)               (None, 64)                49408     \n",
      "                                                                 \n",
      " dropout_1 (Dropout)         (None, 64)                0         \n",
      "                                                                 \n",
      " dense_1 (Dense)             (None, 1)                 65        \n",
      "                                                                 \n",
      "=================================================================\n",
      "Total params: 118081 (461.25 KB)\n",
      "Trainable params: 118081 (461.25 KB)\n",
      "Non-trainable params: 0 (0.00 Byte)\n",
      "_________________________________________________________________\n"
     ]
    }
   ],
   "source": [
    "# define the Autoencoder model\n",
    "\n",
    "model = Sequential()\n",
    "model.add(LSTM(128, activation='relu', input_shape=(trainX.shape[1], trainX.shape[2]), return_sequences=True))\n",
    "model.add(LSTM(64, activation='relu', return_sequences=False))\n",
    "model.add(Dropout(0.2))\n",
    "model.add(Dense(trainY.shape[1]))\n",
    "\n",
    "model.compile(optimizer='adam', loss='mse')\n",
    "model.summary()"
   ]
  },
  {
   "cell_type": "code",
   "execution_count": 43,
   "metadata": {},
   "outputs": [
    {
     "name": "stdout",
     "output_type": "stream",
     "text": [
      "Epoch 1/100\n",
      "54/54 [==============================] - 5s 31ms/step - loss: 0.1526 - val_loss: 0.0100\n",
      "Epoch 2/100\n",
      "54/54 [==============================] - 1s 23ms/step - loss: 0.0236 - val_loss: 0.0062\n",
      "Epoch 3/100\n",
      "54/54 [==============================] - 1s 26ms/step - loss: 0.0195 - val_loss: 0.0051\n",
      "Epoch 4/100\n",
      "54/54 [==============================] - 2s 38ms/step - loss: 0.0172 - val_loss: 0.0135\n",
      "Epoch 5/100\n",
      "54/54 [==============================] - 2s 28ms/step - loss: 0.0176 - val_loss: 0.0069\n",
      "Epoch 6/100\n",
      "54/54 [==============================] - 2s 31ms/step - loss: 0.0192 - val_loss: 0.0055\n",
      "Epoch 7/100\n",
      "54/54 [==============================] - 1s 24ms/step - loss: 0.0167 - val_loss: 0.0051\n",
      "Epoch 8/100\n",
      "54/54 [==============================] - 1s 24ms/step - loss: 0.0169 - val_loss: 0.0042\n",
      "Epoch 9/100\n",
      "54/54 [==============================] - 1s 25ms/step - loss: 0.0164 - val_loss: 0.0040\n",
      "Epoch 10/100\n",
      "54/54 [==============================] - 2s 28ms/step - loss: 0.0168 - val_loss: 0.0038\n",
      "Epoch 11/100\n",
      "54/54 [==============================] - 1s 26ms/step - loss: 0.0172 - val_loss: 0.0042\n",
      "Epoch 12/100\n",
      "54/54 [==============================] - 1s 25ms/step - loss: 0.0146 - val_loss: 0.0049\n",
      "Epoch 13/100\n",
      "54/54 [==============================] - 1s 25ms/step - loss: 0.0157 - val_loss: 0.0046\n",
      "Epoch 14/100\n",
      "54/54 [==============================] - 1s 24ms/step - loss: 0.0158 - val_loss: 0.0055\n",
      "Epoch 15/100\n",
      "54/54 [==============================] - 1s 23ms/step - loss: 0.0152 - val_loss: 0.0061\n",
      "Epoch 16/100\n",
      "54/54 [==============================] - 1s 24ms/step - loss: 0.0155 - val_loss: 0.0040\n",
      "Epoch 17/100\n",
      "54/54 [==============================] - 1s 24ms/step - loss: 0.0145 - val_loss: 0.0065\n",
      "Epoch 18/100\n",
      "54/54 [==============================] - 1s 22ms/step - loss: 0.0158 - val_loss: 0.0050\n",
      "Epoch 19/100\n",
      "54/54 [==============================] - 1s 24ms/step - loss: 0.0156 - val_loss: 0.0034\n",
      "Epoch 20/100\n",
      "54/54 [==============================] - 1s 23ms/step - loss: 0.0148 - val_loss: 0.0032\n",
      "Epoch 21/100\n",
      "54/54 [==============================] - 1s 23ms/step - loss: 0.0156 - val_loss: 0.0048\n",
      "Epoch 22/100\n",
      "54/54 [==============================] - 1s 22ms/step - loss: 0.0158 - val_loss: 0.0096\n",
      "Epoch 23/100\n",
      "54/54 [==============================] - 1s 22ms/step - loss: 0.0156 - val_loss: 0.0098\n",
      "Epoch 24/100\n",
      "54/54 [==============================] - 1s 23ms/step - loss: 0.0153 - val_loss: 0.0037\n",
      "Epoch 25/100\n",
      "54/54 [==============================] - 1s 22ms/step - loss: 0.0144 - val_loss: 0.0025\n",
      "Epoch 26/100\n",
      "54/54 [==============================] - 1s 22ms/step - loss: 0.0156 - val_loss: 0.0024\n",
      "Epoch 27/100\n",
      "54/54 [==============================] - 1s 27ms/step - loss: 0.0148 - val_loss: 0.0027\n",
      "Epoch 28/100\n",
      "54/54 [==============================] - 1s 23ms/step - loss: 0.0158 - val_loss: 0.0047\n",
      "Epoch 29/100\n",
      "54/54 [==============================] - 1s 22ms/step - loss: 0.0153 - val_loss: 0.0057\n",
      "Epoch 30/100\n",
      "54/54 [==============================] - 1s 23ms/step - loss: 0.0157 - val_loss: 0.0054\n",
      "Epoch 31/100\n",
      "54/54 [==============================] - 1s 23ms/step - loss: 0.0159 - val_loss: 0.0030\n",
      "Epoch 32/100\n",
      "54/54 [==============================] - 1s 23ms/step - loss: 0.0142 - val_loss: 0.0032\n",
      "Epoch 33/100\n",
      "54/54 [==============================] - 1s 23ms/step - loss: 0.0153 - val_loss: 0.0053\n",
      "Epoch 34/100\n",
      "54/54 [==============================] - 1s 22ms/step - loss: 0.0147 - val_loss: 0.0039\n",
      "Epoch 35/100\n",
      "54/54 [==============================] - 1s 22ms/step - loss: 0.0146 - val_loss: 0.0096\n",
      "Epoch 36/100\n",
      "54/54 [==============================] - 1s 27ms/step - loss: 0.0155 - val_loss: 0.0017\n",
      "Epoch 37/100\n",
      "54/54 [==============================] - 2s 33ms/step - loss: 0.0151 - val_loss: 0.0026\n",
      "Epoch 38/100\n",
      "54/54 [==============================] - 2s 42ms/step - loss: 0.0133 - val_loss: 0.0028\n",
      "Epoch 39/100\n",
      "54/54 [==============================] - 2s 29ms/step - loss: 0.0151 - val_loss: 0.0019\n",
      "Epoch 40/100\n",
      "54/54 [==============================] - 1s 26ms/step - loss: 0.0142 - val_loss: 0.0045\n",
      "Epoch 41/100\n",
      "54/54 [==============================] - 1s 27ms/step - loss: 0.0142 - val_loss: 0.0031\n",
      "Epoch 42/100\n",
      "54/54 [==============================] - 2s 38ms/step - loss: 0.0162 - val_loss: 0.0024\n",
      "Epoch 43/100\n",
      "54/54 [==============================] - 2s 29ms/step - loss: 0.0141 - val_loss: 0.0055\n",
      "Epoch 44/100\n",
      "54/54 [==============================] - 1s 22ms/step - loss: 0.0146 - val_loss: 0.0016\n",
      "Epoch 45/100\n",
      "54/54 [==============================] - 2s 30ms/step - loss: 0.0156 - val_loss: 0.0024\n",
      "Epoch 46/100\n",
      "54/54 [==============================] - 1s 25ms/step - loss: 0.0149 - val_loss: 0.0052\n",
      "Epoch 47/100\n",
      "54/54 [==============================] - 1s 21ms/step - loss: 0.0133 - val_loss: 0.0017\n",
      "Epoch 48/100\n",
      "54/54 [==============================] - 1s 26ms/step - loss: 0.0153 - val_loss: 0.0053\n",
      "Epoch 49/100\n",
      "54/54 [==============================] - 2s 32ms/step - loss: 0.0152 - val_loss: 0.0035\n",
      "Epoch 50/100\n",
      "54/54 [==============================] - 1s 27ms/step - loss: 0.0153 - val_loss: 0.0014\n",
      "Epoch 51/100\n",
      "54/54 [==============================] - 2s 32ms/step - loss: 0.0142 - val_loss: 0.0030\n",
      "Epoch 52/100\n",
      "54/54 [==============================] - 1s 27ms/step - loss: 0.0148 - val_loss: 0.0050\n",
      "Epoch 53/100\n",
      "54/54 [==============================] - 1s 23ms/step - loss: 0.0158 - val_loss: 0.0043\n",
      "Epoch 54/100\n",
      "54/54 [==============================] - 1s 23ms/step - loss: 0.0157 - val_loss: 0.0026\n",
      "Epoch 55/100\n",
      "54/54 [==============================] - 1s 26ms/step - loss: 0.0145 - val_loss: 0.0104\n",
      "Epoch 56/100\n",
      "54/54 [==============================] - 1s 21ms/step - loss: 0.0148 - val_loss: 0.0018\n",
      "Epoch 57/100\n",
      "54/54 [==============================] - 1s 20ms/step - loss: 0.0139 - val_loss: 0.0016\n",
      "Epoch 58/100\n",
      "54/54 [==============================] - 1s 27ms/step - loss: 0.0137 - val_loss: 0.0024\n",
      "Epoch 59/100\n",
      "54/54 [==============================] - 1s 26ms/step - loss: 0.0147 - val_loss: 0.0044\n",
      "Epoch 60/100\n",
      "54/54 [==============================] - 1s 27ms/step - loss: 0.0144 - val_loss: 0.0028\n",
      "Epoch 61/100\n",
      "54/54 [==============================] - 2s 29ms/step - loss: 0.0135 - val_loss: 0.0019\n",
      "Epoch 62/100\n",
      "54/54 [==============================] - 1s 26ms/step - loss: 0.0145 - val_loss: 0.0013\n",
      "Epoch 63/100\n",
      "54/54 [==============================] - 1s 22ms/step - loss: 0.0128 - val_loss: 0.0036\n",
      "Epoch 64/100\n",
      "54/54 [==============================] - 2s 34ms/step - loss: 0.0135 - val_loss: 0.0016\n",
      "Epoch 65/100\n",
      "54/54 [==============================] - 1s 21ms/step - loss: 0.0149 - val_loss: 0.0179\n",
      "Epoch 66/100\n",
      "54/54 [==============================] - 1s 22ms/step - loss: 0.0144 - val_loss: 0.0053\n",
      "Epoch 67/100\n",
      "54/54 [==============================] - 2s 28ms/step - loss: 0.0155 - val_loss: 0.0028\n",
      "Epoch 68/100\n",
      "54/54 [==============================] - 1s 23ms/step - loss: 0.0139 - val_loss: 0.0059\n",
      "Epoch 69/100\n",
      "54/54 [==============================] - 1s 26ms/step - loss: 0.0155 - val_loss: 0.0037\n",
      "Epoch 70/100\n",
      "54/54 [==============================] - 1s 26ms/step - loss: 0.0155 - val_loss: 0.0023\n",
      "Epoch 71/100\n",
      "54/54 [==============================] - 1s 24ms/step - loss: 0.0152 - val_loss: 0.0028\n",
      "Epoch 72/100\n",
      "54/54 [==============================] - 2s 28ms/step - loss: 0.0143 - val_loss: 0.0013\n",
      "Epoch 73/100\n",
      "54/54 [==============================] - 1s 23ms/step - loss: 0.0142 - val_loss: 0.0028\n",
      "Epoch 74/100\n",
      "54/54 [==============================] - 1s 21ms/step - loss: 0.0141 - val_loss: 0.0012\n",
      "Epoch 75/100\n",
      "54/54 [==============================] - 1s 20ms/step - loss: 0.0148 - val_loss: 0.0185\n",
      "Epoch 76/100\n",
      "54/54 [==============================] - 1s 21ms/step - loss: 0.0157 - val_loss: 0.0032\n",
      "Epoch 77/100\n",
      "54/54 [==============================] - 1s 21ms/step - loss: 0.0148 - val_loss: 0.0012\n",
      "Epoch 78/100\n",
      "54/54 [==============================] - 1s 24ms/step - loss: 0.0145 - val_loss: 0.0020\n",
      "Epoch 79/100\n",
      "54/54 [==============================] - 2s 28ms/step - loss: 0.0143 - val_loss: 0.0070\n",
      "Epoch 80/100\n",
      "54/54 [==============================] - 1s 26ms/step - loss: 0.0145 - val_loss: 0.0015\n",
      "Epoch 81/100\n",
      "54/54 [==============================] - 1s 21ms/step - loss: 0.0144 - val_loss: 0.0033\n",
      "Epoch 82/100\n",
      "54/54 [==============================] - 1s 22ms/step - loss: 0.0151 - val_loss: 0.0074\n",
      "Epoch 83/100\n",
      "54/54 [==============================] - 1s 21ms/step - loss: 0.0153 - val_loss: 0.0049\n",
      "Epoch 84/100\n",
      "54/54 [==============================] - 1s 22ms/step - loss: 0.0150 - val_loss: 0.0022\n",
      "Epoch 85/100\n",
      "54/54 [==============================] - 1s 22ms/step - loss: 0.0136 - val_loss: 0.0013\n",
      "Epoch 86/100\n",
      "54/54 [==============================] - 1s 26ms/step - loss: 0.0136 - val_loss: 0.0020\n",
      "Epoch 87/100\n",
      "54/54 [==============================] - 1s 24ms/step - loss: 0.0143 - val_loss: 0.0073\n",
      "Epoch 88/100\n",
      "54/54 [==============================] - 1s 22ms/step - loss: 0.0153 - val_loss: 0.0012\n",
      "Epoch 89/100\n",
      "54/54 [==============================] - 1s 23ms/step - loss: 0.0138 - val_loss: 9.9525e-04\n",
      "Epoch 90/100\n",
      "54/54 [==============================] - 1s 23ms/step - loss: 0.0142 - val_loss: 0.0013\n",
      "Epoch 91/100\n",
      "54/54 [==============================] - 1s 22ms/step - loss: 0.0138 - val_loss: 0.0049\n",
      "Epoch 92/100\n",
      "54/54 [==============================] - 1s 22ms/step - loss: 0.0146 - val_loss: 0.0013\n",
      "Epoch 93/100\n",
      "54/54 [==============================] - 1s 23ms/step - loss: 0.0140 - val_loss: 0.0019\n",
      "Epoch 94/100\n",
      "54/54 [==============================] - 1s 22ms/step - loss: 0.0144 - val_loss: 0.0027\n",
      "Epoch 95/100\n",
      "54/54 [==============================] - 1s 23ms/step - loss: 0.0139 - val_loss: 0.0023\n",
      "Epoch 96/100\n",
      "54/54 [==============================] - 1s 23ms/step - loss: 0.0138 - val_loss: 0.0010\n",
      "Epoch 97/100\n",
      "54/54 [==============================] - 1s 23ms/step - loss: 0.0138 - val_loss: 0.0037\n",
      "Epoch 98/100\n",
      "54/54 [==============================] - 1s 22ms/step - loss: 0.0146 - val_loss: 0.0036\n",
      "Epoch 99/100\n",
      "54/54 [==============================] - 1s 22ms/step - loss: 0.0138 - val_loss: 0.0073\n",
      "Epoch 100/100\n",
      "54/54 [==============================] - 1s 23ms/step - loss: 0.0133 - val_loss: 0.0045\n"
     ]
    }
   ],
   "source": [
    "# fit the model\n",
    "history = model.fit(trainX, trainY, epochs=100, batch_size=50, validation_split=0.1, verbose=1)"
   ]
  },
  {
   "cell_type": "code",
   "execution_count": 44,
   "metadata": {},
   "outputs": [
    {
     "data": {
      "text/plain": [
       "<matplotlib.legend.Legend at 0x1423144f0>"
      ]
     },
     "execution_count": 44,
     "metadata": {},
     "output_type": "execute_result"
    },
    {
     "data": {
      "image/png": "[encoded data removed]",
      "text/plain": [
       "<Figure size 432x288 with 1 Axes>"
      ]
     },
     "metadata": {
      "needs_background": "light"
     },
     "output_type": "display_data"
    }
   ],
   "source": [
    "plt.plot(history.history['loss'], label='Training loss')\n",
    "plt.plot(history.history['val_loss'], label='Validation loss')\n",
    "plt.legend()"
   ]
  },
  {
   "cell_type": "code",
   "execution_count": 45,
   "metadata": {},
   "outputs": [],
   "source": [
    "#Predicting...\n",
    "#Libraries that will help us extract only business days in the US.\n",
    "#Otherwise our dates would be wrong when we look back (or forward).  \n",
    "from pandas.tseries.holiday import USFederalHolidayCalendar\n",
    "from pandas.tseries.offsets import CustomBusinessDay"
   ]
  },
  {
   "cell_type": "code",
   "execution_count": 46,
   "metadata": {},
   "outputs": [
    {
     "name": "stdout",
     "output_type": "stream",
     "text": [
      "[Timestamp('2022-03-29 00:00:00'), Timestamp('2022-03-30 00:00:00'), Timestamp('2022-03-31 00:00:00'), Timestamp('2022-04-01 00:00:00'), Timestamp('2022-04-04 00:00:00'), Timestamp('2022-04-05 00:00:00'), Timestamp('2022-04-06 00:00:00'), Timestamp('2022-04-07 00:00:00'), Timestamp('2022-04-08 00:00:00'), Timestamp('2022-04-11 00:00:00'), Timestamp('2022-04-12 00:00:00'), Timestamp('2022-04-13 00:00:00'), Timestamp('2022-04-14 00:00:00'), Timestamp('2022-04-15 00:00:00'), Timestamp('2022-04-18 00:00:00'), Timestamp('2022-04-19 00:00:00'), Timestamp('2022-04-20 00:00:00'), Timestamp('2022-04-21 00:00:00'), Timestamp('2022-04-22 00:00:00'), Timestamp('2022-04-25 00:00:00'), Timestamp('2022-04-26 00:00:00'), Timestamp('2022-04-27 00:00:00'), Timestamp('2022-04-28 00:00:00'), Timestamp('2022-04-29 00:00:00'), Timestamp('2022-05-02 00:00:00'), Timestamp('2022-05-03 00:00:00'), Timestamp('2022-05-04 00:00:00'), Timestamp('2022-05-05 00:00:00'), Timestamp('2022-05-06 00:00:00'), Timestamp('2022-05-09 00:00:00'), Timestamp('2022-05-10 00:00:00'), Timestamp('2022-05-11 00:00:00'), Timestamp('2022-05-12 00:00:00'), Timestamp('2022-05-13 00:00:00'), Timestamp('2022-05-16 00:00:00'), Timestamp('2022-05-17 00:00:00'), Timestamp('2022-05-18 00:00:00'), Timestamp('2022-05-19 00:00:00'), Timestamp('2022-05-20 00:00:00'), Timestamp('2022-05-23 00:00:00'), Timestamp('2022-05-24 00:00:00'), Timestamp('2022-05-25 00:00:00'), Timestamp('2022-05-26 00:00:00'), Timestamp('2022-05-27 00:00:00'), Timestamp('2022-05-31 00:00:00'), Timestamp('2022-06-01 00:00:00'), Timestamp('2022-06-02 00:00:00'), Timestamp('2022-06-03 00:00:00'), Timestamp('2022-06-06 00:00:00'), Timestamp('2022-06-07 00:00:00'), Timestamp('2022-06-08 00:00:00'), Timestamp('2022-06-09 00:00:00'), Timestamp('2022-06-10 00:00:00'), Timestamp('2022-06-13 00:00:00'), Timestamp('2022-06-14 00:00:00'), Timestamp('2022-06-15 00:00:00'), Timestamp('2022-06-16 00:00:00'), Timestamp('2022-06-17 00:00:00'), Timestamp('2022-06-21 00:00:00'), Timestamp('2022-06-22 00:00:00'), Timestamp('2022-06-23 00:00:00'), Timestamp('2022-06-24 00:00:00'), Timestamp('2022-06-27 00:00:00'), Timestamp('2022-06-28 00:00:00'), Timestamp('2022-06-29 00:00:00'), Timestamp('2022-06-30 00:00:00'), Timestamp('2022-07-01 00:00:00'), Timestamp('2022-07-05 00:00:00'), Timestamp('2022-07-06 00:00:00'), Timestamp('2022-07-07 00:00:00'), Timestamp('2022-07-08 00:00:00'), Timestamp('2022-07-11 00:00:00'), Timestamp('2022-07-12 00:00:00'), Timestamp('2022-07-13 00:00:00'), Timestamp('2022-07-14 00:00:00'), Timestamp('2022-07-15 00:00:00'), Timestamp('2022-07-18 00:00:00'), Timestamp('2022-07-19 00:00:00'), Timestamp('2022-07-20 00:00:00'), Timestamp('2022-07-21 00:00:00'), Timestamp('2022-07-22 00:00:00'), Timestamp('2022-07-25 00:00:00'), Timestamp('2022-07-26 00:00:00'), Timestamp('2022-07-27 00:00:00'), Timestamp('2022-07-28 00:00:00'), Timestamp('2022-07-29 00:00:00'), Timestamp('2022-08-01 00:00:00'), Timestamp('2022-08-02 00:00:00'), Timestamp('2022-08-03 00:00:00'), Timestamp('2022-08-04 00:00:00'), Timestamp('2022-08-05 00:00:00'), Timestamp('2022-08-08 00:00:00'), Timestamp('2022-08-09 00:00:00'), Timestamp('2022-08-10 00:00:00'), Timestamp('2022-08-11 00:00:00'), Timestamp('2022-08-12 00:00:00'), Timestamp('2022-08-15 00:00:00'), Timestamp('2022-08-16 00:00:00'), Timestamp('2022-08-17 00:00:00'), Timestamp('2022-08-18 00:00:00'), Timestamp('2022-08-19 00:00:00'), Timestamp('2022-08-22 00:00:00'), Timestamp('2022-08-23 00:00:00'), Timestamp('2022-08-24 00:00:00'), Timestamp('2022-08-25 00:00:00'), Timestamp('2022-08-26 00:00:00'), Timestamp('2022-08-29 00:00:00'), Timestamp('2022-08-30 00:00:00'), Timestamp('2022-08-31 00:00:00'), Timestamp('2022-09-01 00:00:00'), Timestamp('2022-09-02 00:00:00'), Timestamp('2022-09-06 00:00:00'), Timestamp('2022-09-07 00:00:00'), Timestamp('2022-09-08 00:00:00'), Timestamp('2022-09-09 00:00:00'), Timestamp('2022-09-12 00:00:00'), Timestamp('2022-09-13 00:00:00'), Timestamp('2022-09-14 00:00:00'), Timestamp('2022-09-15 00:00:00'), Timestamp('2022-09-16 00:00:00'), Timestamp('2022-09-19 00:00:00'), Timestamp('2022-09-20 00:00:00'), Timestamp('2022-09-21 00:00:00'), Timestamp('2022-09-22 00:00:00'), Timestamp('2022-09-23 00:00:00'), Timestamp('2022-09-26 00:00:00'), Timestamp('2022-09-27 00:00:00'), Timestamp('2022-09-28 00:00:00'), Timestamp('2022-09-29 00:00:00'), Timestamp('2022-09-30 00:00:00'), Timestamp('2022-10-03 00:00:00'), Timestamp('2022-10-04 00:00:00'), Timestamp('2022-10-05 00:00:00'), Timestamp('2022-10-06 00:00:00'), Timestamp('2022-10-07 00:00:00'), Timestamp('2022-10-11 00:00:00'), Timestamp('2022-10-12 00:00:00'), Timestamp('2022-10-13 00:00:00'), Timestamp('2022-10-14 00:00:00'), Timestamp('2022-10-17 00:00:00'), Timestamp('2022-10-18 00:00:00'), Timestamp('2022-10-19 00:00:00'), Timestamp('2022-10-20 00:00:00'), Timestamp('2022-10-21 00:00:00'), Timestamp('2022-10-24 00:00:00'), Timestamp('2022-10-25 00:00:00'), Timestamp('2022-10-26 00:00:00'), Timestamp('2022-10-27 00:00:00'), Timestamp('2022-10-28 00:00:00'), Timestamp('2022-10-31 00:00:00'), Timestamp('2022-11-01 00:00:00'), Timestamp('2022-11-02 00:00:00'), Timestamp('2022-11-03 00:00:00'), Timestamp('2022-11-04 00:00:00'), Timestamp('2022-11-07 00:00:00'), Timestamp('2022-11-08 00:00:00'), Timestamp('2022-11-09 00:00:00'), Timestamp('2022-11-10 00:00:00'), Timestamp('2022-11-14 00:00:00'), Timestamp('2022-11-15 00:00:00'), Timestamp('2022-11-16 00:00:00'), Timestamp('2022-11-17 00:00:00'), Timestamp('2022-11-18 00:00:00'), Timestamp('2022-11-21 00:00:00'), Timestamp('2022-11-22 00:00:00'), Timestamp('2022-11-23 00:00:00'), Timestamp('2022-11-25 00:00:00'), Timestamp('2022-11-28 00:00:00'), Timestamp('2022-11-29 00:00:00'), Timestamp('2022-11-30 00:00:00'), Timestamp('2022-12-01 00:00:00'), Timestamp('2022-12-02 00:00:00'), Timestamp('2022-12-05 00:00:00'), Timestamp('2022-12-06 00:00:00'), Timestamp('2022-12-07 00:00:00'), Timestamp('2022-12-08 00:00:00'), Timestamp('2022-12-09 00:00:00'), Timestamp('2022-12-12 00:00:00'), Timestamp('2022-12-13 00:00:00'), Timestamp('2022-12-14 00:00:00'), Timestamp('2022-12-15 00:00:00'), Timestamp('2022-12-16 00:00:00'), Timestamp('2022-12-19 00:00:00'), Timestamp('2022-12-20 00:00:00'), Timestamp('2022-12-21 00:00:00'), Timestamp('2022-12-22 00:00:00'), Timestamp('2022-12-23 00:00:00'), Timestamp('2022-12-27 00:00:00'), Timestamp('2022-12-28 00:00:00'), Timestamp('2022-12-29 00:00:00'), Timestamp('2022-12-30 00:00:00'), Timestamp('2023-01-03 00:00:00'), Timestamp('2023-01-04 00:00:00'), Timestamp('2023-01-05 00:00:00'), Timestamp('2023-01-06 00:00:00'), Timestamp('2023-01-09 00:00:00'), Timestamp('2023-01-10 00:00:00'), Timestamp('2023-01-11 00:00:00'), Timestamp('2023-01-12 00:00:00'), Timestamp('2023-01-13 00:00:00'), Timestamp('2023-01-17 00:00:00'), Timestamp('2023-01-18 00:00:00'), Timestamp('2023-01-19 00:00:00'), Timestamp('2023-01-20 00:00:00'), Timestamp('2023-01-23 00:00:00'), Timestamp('2023-01-24 00:00:00'), Timestamp('2023-01-25 00:00:00'), Timestamp('2023-01-26 00:00:00'), Timestamp('2023-01-27 00:00:00'), Timestamp('2023-01-30 00:00:00'), Timestamp('2023-01-31 00:00:00'), Timestamp('2023-02-01 00:00:00'), Timestamp('2023-02-02 00:00:00'), Timestamp('2023-02-03 00:00:00'), Timestamp('2023-02-06 00:00:00'), Timestamp('2023-02-07 00:00:00'), Timestamp('2023-02-08 00:00:00'), Timestamp('2023-02-09 00:00:00'), Timestamp('2023-02-10 00:00:00'), Timestamp('2023-02-13 00:00:00'), Timestamp('2023-02-14 00:00:00'), Timestamp('2023-02-15 00:00:00'), Timestamp('2023-02-16 00:00:00'), Timestamp('2023-02-17 00:00:00'), Timestamp('2023-02-21 00:00:00'), Timestamp('2023-02-22 00:00:00'), Timestamp('2023-02-23 00:00:00'), Timestamp('2023-02-24 00:00:00'), Timestamp('2023-02-27 00:00:00'), Timestamp('2023-02-28 00:00:00'), Timestamp('2023-03-01 00:00:00'), Timestamp('2023-03-02 00:00:00'), Timestamp('2023-03-03 00:00:00'), Timestamp('2023-03-06 00:00:00'), Timestamp('2023-03-07 00:00:00'), Timestamp('2023-03-08 00:00:00'), Timestamp('2023-03-09 00:00:00'), Timestamp('2023-03-10 00:00:00'), Timestamp('2023-03-13 00:00:00'), Timestamp('2023-03-14 00:00:00'), Timestamp('2023-03-15 00:00:00'), Timestamp('2023-03-16 00:00:00'), Timestamp('2023-03-17 00:00:00'), Timestamp('2023-03-20 00:00:00'), Timestamp('2023-03-21 00:00:00'), Timestamp('2023-03-22 00:00:00'), Timestamp('2023-03-23 00:00:00'), Timestamp('2023-03-24 00:00:00'), Timestamp('2023-03-27 00:00:00'), Timestamp('2023-03-28 00:00:00'), Timestamp('2023-03-29 00:00:00'), Timestamp('2023-03-30 00:00:00'), Timestamp('2023-03-31 00:00:00'), Timestamp('2023-04-03 00:00:00'), Timestamp('2023-04-04 00:00:00'), Timestamp('2023-04-05 00:00:00'), Timestamp('2023-04-06 00:00:00'), Timestamp('2023-04-07 00:00:00'), Timestamp('2023-04-10 00:00:00'), Timestamp('2023-04-11 00:00:00'), Timestamp('2023-04-12 00:00:00'), Timestamp('2023-04-13 00:00:00'), Timestamp('2023-04-14 00:00:00'), Timestamp('2023-04-17 00:00:00'), Timestamp('2023-04-18 00:00:00'), Timestamp('2023-04-19 00:00:00'), Timestamp('2023-04-20 00:00:00'), Timestamp('2023-04-21 00:00:00'), Timestamp('2023-04-24 00:00:00'), Timestamp('2023-04-25 00:00:00'), Timestamp('2023-04-26 00:00:00'), Timestamp('2023-04-27 00:00:00'), Timestamp('2023-04-28 00:00:00'), Timestamp('2023-05-01 00:00:00'), Timestamp('2023-05-02 00:00:00'), Timestamp('2023-05-03 00:00:00'), Timestamp('2023-05-04 00:00:00'), Timestamp('2023-05-05 00:00:00'), Timestamp('2023-05-08 00:00:00'), Timestamp('2023-05-09 00:00:00'), Timestamp('2023-05-10 00:00:00'), Timestamp('2023-05-11 00:00:00'), Timestamp('2023-05-12 00:00:00'), Timestamp('2023-05-15 00:00:00'), Timestamp('2023-05-16 00:00:00'), Timestamp('2023-05-17 00:00:00'), Timestamp('2023-05-18 00:00:00'), Timestamp('2023-05-19 00:00:00'), Timestamp('2023-05-22 00:00:00'), Timestamp('2023-05-23 00:00:00'), Timestamp('2023-05-24 00:00:00'), Timestamp('2023-05-25 00:00:00'), Timestamp('2023-05-26 00:00:00'), Timestamp('2023-05-30 00:00:00'), Timestamp('2023-05-31 00:00:00'), Timestamp('2023-06-01 00:00:00'), Timestamp('2023-06-02 00:00:00'), Timestamp('2023-06-05 00:00:00'), Timestamp('2023-06-06 00:00:00'), Timestamp('2023-06-07 00:00:00'), Timestamp('2023-06-08 00:00:00'), Timestamp('2023-06-09 00:00:00'), Timestamp('2023-06-12 00:00:00'), Timestamp('2023-06-13 00:00:00'), Timestamp('2023-06-14 00:00:00'), Timestamp('2023-06-15 00:00:00'), Timestamp('2023-06-16 00:00:00'), Timestamp('2023-06-20 00:00:00'), Timestamp('2023-06-21 00:00:00'), Timestamp('2023-06-22 00:00:00'), Timestamp('2023-06-23 00:00:00'), Timestamp('2023-06-26 00:00:00'), Timestamp('2023-06-27 00:00:00'), Timestamp('2023-06-28 00:00:00'), Timestamp('2023-06-29 00:00:00'), Timestamp('2023-06-30 00:00:00'), Timestamp('2023-07-03 00:00:00'), Timestamp('2023-07-05 00:00:00'), Timestamp('2023-07-06 00:00:00'), Timestamp('2023-07-07 00:00:00'), Timestamp('2023-07-10 00:00:00'), Timestamp('2023-07-11 00:00:00'), Timestamp('2023-07-12 00:00:00'), Timestamp('2023-07-13 00:00:00'), Timestamp('2023-07-14 00:00:00'), Timestamp('2023-07-17 00:00:00'), Timestamp('2023-07-18 00:00:00'), Timestamp('2023-07-19 00:00:00'), Timestamp('2023-07-20 00:00:00'), Timestamp('2023-07-21 00:00:00'), Timestamp('2023-07-24 00:00:00'), Timestamp('2023-07-25 00:00:00'), Timestamp('2023-07-26 00:00:00'), Timestamp('2023-07-27 00:00:00'), Timestamp('2023-07-28 00:00:00'), Timestamp('2023-07-31 00:00:00'), Timestamp('2023-08-01 00:00:00'), Timestamp('2023-08-02 00:00:00'), Timestamp('2023-08-03 00:00:00'), Timestamp('2023-08-04 00:00:00'), Timestamp('2023-08-07 00:00:00'), Timestamp('2023-08-08 00:00:00'), Timestamp('2023-08-09 00:00:00'), Timestamp('2023-08-10 00:00:00'), Timestamp('2023-08-11 00:00:00'), Timestamp('2023-08-14 00:00:00'), Timestamp('2023-08-15 00:00:00'), Timestamp('2023-08-16 00:00:00'), Timestamp('2023-08-17 00:00:00'), Timestamp('2023-08-18 00:00:00'), Timestamp('2023-08-21 00:00:00'), Timestamp('2023-08-22 00:00:00'), Timestamp('2023-08-23 00:00:00'), Timestamp('2023-08-24 00:00:00'), Timestamp('2023-08-25 00:00:00'), Timestamp('2023-08-28 00:00:00'), Timestamp('2023-08-29 00:00:00'), Timestamp('2023-08-30 00:00:00'), Timestamp('2023-08-31 00:00:00'), Timestamp('2023-09-01 00:00:00'), Timestamp('2023-09-05 00:00:00'), Timestamp('2023-09-06 00:00:00'), Timestamp('2023-09-07 00:00:00'), Timestamp('2023-09-08 00:00:00'), Timestamp('2023-09-11 00:00:00'), Timestamp('2023-09-12 00:00:00'), Timestamp('2023-09-13 00:00:00'), Timestamp('2023-09-14 00:00:00'), Timestamp('2023-09-15 00:00:00'), Timestamp('2023-09-18 00:00:00'), Timestamp('2023-09-19 00:00:00'), Timestamp('2023-09-20 00:00:00'), Timestamp('2023-09-21 00:00:00'), Timestamp('2023-09-22 00:00:00'), Timestamp('2023-09-25 00:00:00'), Timestamp('2023-09-26 00:00:00'), Timestamp('2023-09-27 00:00:00'), Timestamp('2023-09-28 00:00:00'), Timestamp('2023-09-29 00:00:00'), Timestamp('2023-10-02 00:00:00'), Timestamp('2023-10-03 00:00:00'), Timestamp('2023-10-04 00:00:00'), Timestamp('2023-10-05 00:00:00'), Timestamp('2023-10-06 00:00:00'), Timestamp('2023-10-10 00:00:00'), Timestamp('2023-10-11 00:00:00'), Timestamp('2023-10-12 00:00:00'), Timestamp('2023-10-13 00:00:00'), Timestamp('2023-10-16 00:00:00'), Timestamp('2023-10-17 00:00:00'), Timestamp('2023-10-18 00:00:00'), Timestamp('2023-10-19 00:00:00'), Timestamp('2023-10-20 00:00:00'), Timestamp('2023-10-23 00:00:00'), Timestamp('2023-10-24 00:00:00'), Timestamp('2023-10-25 00:00:00'), Timestamp('2023-10-26 00:00:00'), Timestamp('2023-10-27 00:00:00'), Timestamp('2023-10-30 00:00:00')]\n"
     ]
    }
   ],
   "source": [
    "us_bd = CustomBusinessDay(calendar=USFederalHolidayCalendar())\n",
    "#Remember that we can only predict one day in future as our model needs 5 variables\n",
    "#as inputs for prediction. We only have all 5 variables until the last day in our dataset.\n",
    "n_past = 400\n",
    "n_days_for_prediction=399  #let us predict past 15 days\n",
    "\n",
    "predict_period_dates = pd.date_range(list(train_dates)[-n_past], periods=n_days_for_prediction, freq=us_bd).tolist()\n",
    "print(predict_period_dates)"
   ]
  },
  {
   "cell_type": "code",
   "execution_count": 47,
   "metadata": {},
   "outputs": [
    {
     "name": "stdout",
     "output_type": "stream",
     "text": [
      "13/13 [==============================] - 0s 6ms/step\n"
     ]
    }
   ],
   "source": [
    "#Make prediction\n",
    "prediction = model.predict(trainX[-n_days_for_prediction:]) #shape = (n, 1) where n is the n_days_for_prediction"
   ]
  },
  {
   "cell_type": "code",
   "execution_count": 48,
   "metadata": {},
   "outputs": [],
   "source": [
    "#Perform inverse transformation to rescale back to original range\n",
    "#Since we used 5 variables for transform, the inverse expects same dimensions\n",
    "#Therefore, let us copy our values 5 times and discard them after inverse transform\n",
    "prediction_copies = np.repeat(prediction, df_for_training.shape[1], axis=-1)\n",
    "y_pred_future = scaler.inverse_transform(prediction_copies)[:,0]"
   ]
  },
  {
   "cell_type": "code",
   "execution_count": 49,
   "metadata": {},
   "outputs": [],
   "source": [
    "# Convert timestamp to date\n",
    "forecast_dates = []\n",
    "for time_i in predict_period_dates:\n",
    "    forecast_dates.append(time_i.date())\n",
    "    \n",
    "df_forecast = pd.DataFrame({'Date':np.array(forecast_dates), 'Open':y_pred_future})\n",
    "df_forecast['Date']=pd.to_datetime(df_forecast['Date'])"
   ]
  },
  {
   "cell_type": "code",
   "execution_count": 50,
   "metadata": {},
   "outputs": [
    {
     "name": "stderr",
     "output_type": "stream",
     "text": [
      "/var/folders/t8/6jkdwknn67v62v405wjsjgnm0000gn/T/ipykernel_12362/2933780510.py:2: SettingWithCopyWarning: \n",
      "A value is trying to be set on a copy of a slice from a DataFrame.\n",
      "Try using .loc[row_indexer,col_indexer] = value instead\n",
      "\n",
      "See the caveats in the documentation: https://pandas.pydata.org/pandas-docs/stable/user_guide/indexing.html#returning-a-view-versus-a-copy\n",
      "  original['Date']=pd.to_datetime(original['Date'])\n"
     ]
    }
   ],
   "source": [
    "original = df[['Date', 'Open']]\n",
    "original['Date']=pd.to_datetime(original['Date'])\n",
    "original = original.loc[original['Date'] >= '2021-12-1']"
   ]
  },
  {
   "cell_type": "code",
   "execution_count": 52,
   "metadata": {},
   "outputs": [
    {
     "data": {
      "text/plain": [
       "<Axes: xlabel='Date', ylabel='Open'>"
      ]
     },
     "execution_count": 52,
     "metadata": {},
     "output_type": "execute_result"
    },
    {
     "data": {
      "image/png": "[encoded data removed]",
      "text/plain": [
       "<Figure size 432x288 with 1 Axes>"
      ]
     },
     "metadata": {
      "needs_background": "light"
     },
     "output_type": "display_data"
    }
   ],
   "source": [
    "sns.lineplot(x = original['Date'], y = original['Open'])\n",
    "sns.lineplot(x = df_forecast['Date'], y = df_forecast['Open'])"
   ]
  }
 ],
 "metadata": {
  "kernelspec": {
   "display_name": "base",
   "language": "python",
   "name": "python3"
  },
  "language_info": {
   "codemirror_mode": {
    "name": "ipython",
    "version": 3
   },
   "file_extension": ".py",
   "mimetype": "text/x-python",
   "name": "python",
   "nbconvert_exporter": "python",
   "pygments_lexer": "ipython3",
   "version": "3.9.10"
  }
 },
 "nbformat": 4,
 "nbformat_minor": 2
}
